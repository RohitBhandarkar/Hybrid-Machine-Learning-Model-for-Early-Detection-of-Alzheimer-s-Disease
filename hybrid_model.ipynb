{
 "cells": [
  {
   "cell_type": "code",
   "execution_count": 6,
   "metadata": {},
   "outputs": [],
   "source": [
    "import numpy as np\n",
    "import tensorflow as tf\n",
    "from tensorflow.keras.models import load_model\n",
    "import joblib\n",
    "import pandas as pd\n",
    "from PIL import Image"
   ]
  },
  {
   "cell_type": "markdown",
   "metadata": {},
   "source": [
    "# Hybrid Model\n",
    "Combining MRI Scan and Sequential Health Data Analysis\n",
    "\n",
    "The following cells implement a hybrid model that combines predictions from:\n",
    "1. A CNN model trained on MRI scans\n",
    "2. An ensemble model trained on sequential health data (demographics, clinical scores, etc.)\n",
    "\n",
    "This dual-stream approach enables more comprehensive Alzheimer's assessment by leveraging both imaging biomarkers and clinical indicators.\n"
   ]
  },
  {
   "cell_type": "code",
   "execution_count": 7,
   "metadata": {},
   "outputs": [],
   "source": [
    "class HybridModel:\n",
    "    def __init__(self, cnn_model_path, sequential_model_path):\n",
    "        \"\"\"\n",
    "        Initialize the hybrid model with paths to both trained models\n",
    "        \"\"\"\n",
    "        # Load the CNN model for MRI images\n",
    "        self.cnn_model = load_model(cnn_model_path)\n",
    "        \n",
    "        # Load the sequential data model\n",
    "        try:\n",
    "            self.sequential_model = joblib.load(sequential_model_path)\n",
    "        except Exception as e:\n",
    "            raise ValueError(f\"Unable to load sequential model - file may be corrupted or incompatible: {str(e)}\")\n",
    "    def preprocess_mri(self, image_path):\n",
    "        \"\"\"\n",
    "        Preprocess MRI image for CNN model\n",
    "        \"\"\"\n",
    "        # Load and preprocess image\n",
    "        img = Image.open(image_path).convert('L')  # Convert to grayscale\n",
    "        img = img.resize((128, 128))  # Resize to expected input size\n",
    "        img_array = np.array(img)\n",
    "        img_array = img_array / 255.0  # Normalize\n",
    "        img_array = np.expand_dims(img_array, axis=0)  # Add batch dimension\n",
    "        img_array = np.expand_dims(img_array, axis=-1)  # Add channel dimension\n",
    "        return img_array\n",
    "    \n",
    "    def predict(self, mri_image_path, sequential_data):\n",
    "        \"\"\"\n",
    "        Make predictions using both models and combine results\n",
    "        \n",
    "        Parameters:\n",
    "        mri_image_path (str): Path to MRI image\n",
    "        sequential_data (pd.DataFrame): DataFrame containing sequential health data\n",
    "        \n",
    "        Returns:\n",
    "        dict: Combined prediction results\n",
    "        \"\"\"\n",
    "        # Get CNN prediction for MRI\n",
    "        mri_input = self.preprocess_mri(mri_image_path)\n",
    "        cnn_pred = self.cnn_model.predict(mri_input)\n",
    "        cnn_class = np.argmax(cnn_pred, axis=1)[0]\n",
    "        cnn_confidence = np.max(cnn_pred)\n",
    "        \n",
    "        # Get sequential model prediction\n",
    "        seq_pred = self.sequential_model.predict_proba(sequential_data)\n",
    "        seq_class = self.sequential_model.predict(sequential_data)[0]\n",
    "        seq_confidence = np.max(seq_pred, axis=1)[0]\n",
    "        \n",
    "        # Combine predictions (weighted average)\n",
    "        # You can adjust these weights based on model performance\n",
    "        cnn_weight = 0.6\n",
    "        seq_weight = 0.4\n",
    "        \n",
    "        combined_confidence = (cnn_confidence * cnn_weight + \n",
    "                             seq_confidence * seq_weight)\n",
    "        \n",
    "        # If predictions agree, use that class. If not, use the one with higher confidence\n",
    "        if cnn_class == seq_class:\n",
    "            final_class = cnn_class\n",
    "        else:\n",
    "            final_class = cnn_class if cnn_confidence > seq_confidence else seq_class\n",
    "            \n",
    "        return {\n",
    "            'final_prediction': final_class,\n",
    "            'combined_confidence': combined_confidence,\n",
    "            'cnn_prediction': cnn_class,\n",
    "            'cnn_confidence': cnn_confidence,\n",
    "            'sequential_prediction': seq_class,\n",
    "            'sequential_confidence': seq_confidence\n",
    "        }"
   ]
  },
  {
   "cell_type": "code",
   "execution_count": 9,
   "metadata": {},
   "outputs": [
    {
     "name": "stderr",
     "output_type": "stream",
     "text": [
      "WARNING:absl:Compiled the loaded model, but the compiled metrics have yet to be built. `model.compile_metrics` will be empty until you train or evaluate the model.\n",
      "/home/rohitb/projects/ml/Project/venv/lib/python3.12/site-packages/sklearn/base.py:376: InconsistentVersionWarning: Trying to unpickle estimator DecisionTreeClassifier from version 1.4.1.post1 when using version 1.5.2. This might lead to breaking code or invalid results. Use at your own risk. For more info please refer to:\n",
      "https://scikit-learn.org/stable/model_persistence.html#security-maintainability-limitations\n",
      "  warnings.warn(\n",
      "/home/rohitb/projects/ml/Project/venv/lib/python3.12/site-packages/sklearn/base.py:376: InconsistentVersionWarning: Trying to unpickle estimator RandomForestClassifier from version 1.4.1.post1 when using version 1.5.2. This might lead to breaking code or invalid results. Use at your own risk. For more info please refer to:\n",
      "https://scikit-learn.org/stable/model_persistence.html#security-maintainability-limitations\n",
      "  warnings.warn(\n"
     ]
    }
   ],
   "source": [
    "# Example usage\n",
    "cnn_model_path = '/home/rohitb/projects/ml/Project/mri_data_analysis/trained_models/cnn_model_3.h5'\n",
    "sequential_model_path = '/home/rohitb/projects/ml/Project/sequential_data_analysis/trained_models/ensamble_nb_xgb.joblib'\n",
    "\n",
    "# Initialize hybrid model\n",
    "hybrid_model = HybridModel(cnn_model_path, sequential_model_path)\n",
    "\n",
    "# Note: To use this model, you'll need:\n",
    "# 1. MRI image file path\n",
    "# 2. DataFrame containing sequential health data with appropriate features\n"
   ]
  },
  {
   "cell_type": "markdown",
   "metadata": {},
   "source": [
    "# Testing the Combined Model Performance\n",
    "\n",
    "The hybrid model's performance will be evaluated using a comprehensive testing approach:\n",
    "\n",
    "1. **Test Dataset Preparation**\n",
    "   - Split OASIS dataset into training/testing sets\n",
    "   - Ensure balanced representation of different CDR scores\n",
    "   - Prepare both MRI scans and corresponding sequential data\n",
    "\n",
    "2. **Performance Metrics**\n",
    "   - Accuracy, Precision, Recall, F1-score\n",
    "   - Confusion matrix for multi-class classification\n",
    "   - ROC curves and AUC scores\n",
    "   - Model confidence analysis\n",
    "\n",
    "3. **Comparative Analysis**\n",
    "   - Compare hybrid model performance vs individual models\n",
    "   - Analyze cases where models disagree\n",
    "   - Evaluate confidence weighting effectiveness\n",
    "\n",
    "4. **Visualization**\n",
    "   - Performance metrics visualization\n",
    "   - Confidence distribution plots\n",
    "   - Error analysis charts\n",
    "\n",
    "Results will be documented and compared against baseline individual model performance to demonstrate the advantages of the hybrid approach.\n"
   ]
  },
  {
   "cell_type": "code",
   "execution_count": null,
   "metadata": {},
   "outputs": [],
   "source": []
  }
 ],
 "metadata": {
  "kernelspec": {
   "display_name": "venv",
   "language": "python",
   "name": "python3"
  },
  "language_info": {
   "codemirror_mode": {
    "name": "ipython",
    "version": 3
   },
   "file_extension": ".py",
   "mimetype": "text/x-python",
   "name": "python",
   "nbconvert_exporter": "python",
   "pygments_lexer": "ipython3",
   "version": "3.12.3"
  }
 },
 "nbformat": 4,
 "nbformat_minor": 2
}
