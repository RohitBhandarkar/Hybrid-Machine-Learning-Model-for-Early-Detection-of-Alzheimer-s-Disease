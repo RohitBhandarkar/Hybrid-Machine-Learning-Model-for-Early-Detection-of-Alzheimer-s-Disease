{
 "cells": [
  {
   "cell_type": "code",
   "execution_count": 1,
   "metadata": {},
   "outputs": [],
   "source": [
    "import os\n",
    "import shutil\n",
    "from pathlib import Path\n",
    "import tarfile\n",
    "from tqdm import tqdm\n"
   ]
  },
  {
   "cell_type": "code",
   "execution_count": 2,
   "metadata": {},
   "outputs": [],
   "source": [
    "def copy_gif_files_from_subdirs(main_directory, dest_directory):\n",
    "    # Traverse the first level of subdirectories in the main directory\n",
    "    for first_level_subdir in os.listdir(main_directory):\n",
    "        first_level_subdir_path = os.path.join(main_directory, first_level_subdir)\n",
    "        \n",
    "        # Check if it's a directory (skip files in the main directory)\n",
    "        if os.path.isdir(first_level_subdir_path):\n",
    "            # Remove '_MR1' suffix from the folder name if it exists\n",
    "            dest_folder_name = first_level_subdir\n",
    "            \n",
    "            # Create a corresponding directory in the destination directory\n",
    "            subdir_gif_dest = os.path.join(dest_directory, dest_folder_name)\n",
    "            if not os.path.exists(subdir_gif_dest):\n",
    "                os.makedirs(subdir_gif_dest)  # Create destination directory for this subdirectory\n",
    "            \n",
    "            # Walk through the current first-level subdirectory and its subdirectories\n",
    "            for root, dirs, files in os.walk(first_level_subdir_path):\n",
    "                for file in files:\n",
    "                    if file.endswith('.gif'):\n",
    "                        src_path = os.path.join(root, file)  # Source .gif file\n",
    "                        dest_path = os.path.join(subdir_gif_dest, file)  # Destination path for the .gif\n",
    "                        shutil.copy2(src_path, dest_path)  # Copy the .gif file\n",
    "                        # print(f\"Copied: {src_path} to {dest_path}\")\n",
    "\n",
    "\n"
   ]
  },
  {
   "cell_type": "code",
   "execution_count": 3,
   "metadata": {},
   "outputs": [],
   "source": [
    "def process_tarball(tarball_path, extract_temp_dir, destination_directory):\n",
    "    # Unzip the tarball into a temporary directory\n",
    "    # print(f\"Extracting {tarball_path}...\")\n",
    "    with tarfile.open(tarball_path, 'r:gz') as tar:\n",
    "        tar.extractall(path=extract_temp_dir)\n",
    "\n",
    "    # Extracted folder is based on the \"discX\" part of the filename\n",
    "    extracted_dir_name = os.path.basename(tarball_path).split('_')[-1].replace('.tar.gz', '')\n",
    "    extracted_dir_path = os.path.join(extract_temp_dir, extracted_dir_name)\n",
    "\n",
    "    # Get total number of .gif files for progress bar\n",
    "    gif_files = []\n",
    "    for root, dirs, files in os.walk(extracted_dir_path):\n",
    "        gif_files.extend([f for f in files if f.endswith('.gif')])\n",
    "    \n",
    "    # Traverse through the unzipped files and copy .gif files with progress bar\n",
    "    for root, dirs, files in os.walk(extracted_dir_path):\n",
    "        for file in tqdm(files, desc=\"Copying .gif files\"):\n",
    "            if file.endswith('.gif'):\n",
    "                # Remove '_MR1' from the folder name when creating the destination directory\n",
    "                relative_path = os.path.relpath(root, extract_temp_dir)\n",
    "                dest_dir = os.path.join(destination_directory, relative_path)\n",
    "\n",
    "                # Create the destination folder if it doesn't exist\n",
    "                if not os.path.exists(dest_dir):\n",
    "                    os.makedirs(dest_dir)\n",
    "\n",
    "                # Copy the .gif file to the destination\n",
    "                src_file = os.path.join(root, file)\n",
    "                dest_file = os.path.join(dest_dir, file)\n",
    "                shutil.copy2(src_file, dest_file)\n",
    "                # print(f\"Copied {src_file} to {dest_file}\")\n",
    "    \n",
    "    # Delete the unzipped directory after processing\n",
    "    shutil.rmtree(extracted_dir_path)\n",
    "    # print(f\"Deleted extracted files from {extracted_dir_path}\")\n",
    "\n",
    "def process_all_tarballs(source_directory, destination_directory):\n",
    "    # Get list of tarballs first\n",
    "    tarballs = [f for f in os.listdir(source_directory) if f.endswith('.tar.gz')]\n",
    "    \n",
    "    # Process each tarball one by one with progress bar\n",
    "    for tarball in tqdm(tarballs, desc=\"Processing tarballs\"):\n",
    "        tarball_path = os.path.join(source_directory, tarball)\n",
    "        # print(f\"\\nProcessing {tarball_path}...\")\n",
    "\n",
    "        # Unzip the tarball into a temporary directory\n",
    "        # print(\"Extracting tarball...\")\n",
    "        with tarfile.open(tarball_path, 'r:gz') as tar:\n",
    "            members = tar.getmembers()\n",
    "            for member in tqdm(members, desc=\"Extracting files\"):\n",
    "                tar.extract(member, path=source_directory)\n",
    "\n",
    "        # Extracted folder is based on the \"discX\" part of the filename\n",
    "        extracted_dir_name = os.path.basename(tarball_path).split('_')[-1].replace('.tar.gz', '')\n",
    "        disk_path = os.path.join(source_directory, extracted_dir_name)\n",
    "        processed_path = os.path.join(destination_directory,extracted_dir_name)\n",
    "        copy_gif_files_from_subdirs(disk_path, processed_path)\n",
    "\n",
    "        # Delete the unzipped directory after processing\n",
    "        shutil.rmtree(disk_path)\n",
    "        # print(f\"Deleted extracted files from {disk_path}\")"
   ]
  },
  {
   "cell_type": "code",
   "execution_count": 4,
   "metadata": {},
   "outputs": [
    {
     "name": "stderr",
     "output_type": "stream",
     "text": [
      "Processing tarballs:   0%|          | 0/12 [00:00<?, ?it/s]"
     ]
    },
    {
     "name": "stderr",
     "output_type": "stream",
     "text": [
      "Extracting files: 100%|██████████| 1596/1596 [00:51<00:00, 31.05it/s]\n",
      "Extracting files: 100%|██████████| 1576/1576 [01:29<00:00, 17.61it/s]\n",
      "Extracting files: 100%|██████████| 1673/1673 [01:45<00:00, 15.80it/s]\n",
      "Extracting files: 100%|██████████| 1641/1641 [01:56<00:00, 14.11it/s]\n",
      "Extracting files: 100%|██████████| 1555/1555 [01:47<00:00, 14.42it/s]\n",
      "Extracting files: 100%|██████████| 1608/1608 [01:45<00:00, 15.30it/s]\n",
      "Extracting files: 100%|██████████| 1724/1724 [01:27<00:00, 19.80it/s]\n",
      "Extracting files: 100%|██████████| 1596/1596 [01:17<00:00, 20.59it/s]\n",
      "Extracting files: 100%|██████████| 1734/1734 [01:52<00:00, 15.48it/s]\n",
      "Extracting files: 100%|██████████| 1739/1739 [01:11<00:00, 24.23it/s]\n",
      "Extracting files: 100%|██████████| 1596/1596 [01:19<00:00, 19.97it/s]\n",
      "Extracting files: 100%|██████████| 1755/1755 [01:51<00:00, 15.72it/s]\n",
      "Processing tarballs: 100%|██████████| 12/12 [23:24<00:00, 117.05s/it]\n"
     ]
    }
   ],
   "source": [
    "# Paths\n",
    "source_directory = \"/home/rohitb/projects/ml/Project/assets\"\n",
    "destination_directory = \"/home/rohitb/projects/ml/Project/assets/OASIS-1/processed\"\n",
    "\n",
    "# Call the function to process all tarballs\n",
    "process_all_tarballs(source_directory, destination_directory)"
   ]
  }
 ],
 "metadata": {
  "kernelspec": {
   "display_name": "Python 3",
   "language": "python",
   "name": "python3"
  },
  "language_info": {
   "codemirror_mode": {
    "name": "ipython",
    "version": 3
   },
   "file_extension": ".py",
   "mimetype": "text/x-python",
   "name": "python",
   "nbconvert_exporter": "python",
   "pygments_lexer": "ipython3",
   "version": "3.12.3"
  }
 },
 "nbformat": 4,
 "nbformat_minor": 2
}
