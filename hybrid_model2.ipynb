{
 "cells": [
  {
   "cell_type": "code",
   "execution_count": 1,
   "metadata": {},
   "outputs": [
    {
     "name": "stderr",
     "output_type": "stream",
     "text": [
      "2024-11-23 18:06:19.282191: I external/local_xla/xla/tsl/cuda/cudart_stub.cc:32] Could not find cuda drivers on your machine, GPU will not be used.\n",
      "2024-11-23 18:06:19.350448: I external/local_xla/xla/tsl/cuda/cudart_stub.cc:32] Could not find cuda drivers on your machine, GPU will not be used.\n",
      "2024-11-23 18:06:19.425827: E external/local_xla/xla/stream_executor/cuda/cuda_fft.cc:477] Unable to register cuFFT factory: Attempting to register factory for plugin cuFFT when one has already been registered\n",
      "WARNING: All log messages before absl::InitializeLog() is called are written to STDERR\n",
      "E0000 00:00:1732365379.489170    6649 cuda_dnn.cc:8310] Unable to register cuDNN factory: Attempting to register factory for plugin cuDNN when one has already been registered\n",
      "E0000 00:00:1732365379.500034    6649 cuda_blas.cc:1418] Unable to register cuBLAS factory: Attempting to register factory for plugin cuBLAS when one has already been registered\n",
      "2024-11-23 18:06:19.539106: I tensorflow/core/platform/cpu_feature_guard.cc:210] This TensorFlow binary is optimized to use available CPU instructions in performance-critical operations.\n",
      "To enable the following instructions: AVX2 FMA, in other operations, rebuild TensorFlow with the appropriate compiler flags.\n"
     ]
    }
   ],
   "source": [
    "import numpy as np\n",
    "import tensorflow as tf\n",
    "from tensorflow.keras.models import load_model\n",
    "import joblib\n",
    "import pandas as pd\n",
    "from PIL import Image\n",
    "import os\n",
    "from tqdm import tqdm\n",
    "from sklearn.preprocessing import LabelEncoder\n",
    "from sklearn.model_selection import train_test_split\n",
    "from sklearn.ensemble import RandomForestClassifier\n",
    "from sklearn.metrics import (\n",
    "    accuracy_score, \n",
    "    precision_score,\n",
    "    recall_score,\n",
    "    f1_score,\n",
    "    roc_auc_score,\n",
    "    roc_curve,\n",
    "    confusion_matrix,\n",
    "    classification_report\n",
    ")\n",
    "import matplotlib.pyplot as plt\n",
    "import seaborn as sns\n",
    "from sklearn.svm import SVC\n",
    "from xgboost import XGBClassifier\n",
    "from sklearn.linear_model import LogisticRegression\n"
   ]
  },
  {
   "cell_type": "code",
   "execution_count": 3,
   "metadata": {},
   "outputs": [],
   "source": [
    "cnn_model_path = '/home/rohitb/projects/ml/Project/mri_data_analysis/trained_models/cnn_model_1.h5'\n",
    "sequential_model_path = '/home/rohitb/projects/ml/Project/sequential_data_analysis/trained_models/ensamble_nb_xgb.joblib'\n",
    "nb_model_path = '/home/rohitb/projects/ml/Project/sequential_data_analysis/trained_models/optimal_gaussianNB.joblib'\n",
    "xgb_model_path = '/home/rohitb/projects/ml/Project/sequential_data_analysis/trained_models/optimal_XGBoost.joblib'\n"
   ]
  },
  {
   "cell_type": "code",
   "execution_count": 5,
   "metadata": {},
   "outputs": [
    {
     "name": "stderr",
     "output_type": "stream",
     "text": [
      "Processing disks: 100%|██████████| 12/12 [00:06<00:00,  1.96it/s]\n"
     ]
    },
    {
     "name": "stdout",
     "output_type": "stream",
     "text": [
      "Unique CDR values: [0.  0.5 1.  2. ]\n",
      "Number of classes: 4\n"
     ]
    }
   ],
   "source": [
    "raw_data = pd.read_csv('/home/rohitb/projects/ml/Project/data/oasis_cleaned.csv')\n",
    "data = raw_data[['ID','CDR']]\n",
    "root_dir = '/home/rohitb/projects/ml/Project/assets/OASIS-1/processed/'\n",
    "# Create lists to store images and labels\n",
    "images = []\n",
    "labels = []\n",
    "# Walk through 8 disks\n",
    "for disk_num in tqdm(range(1, 13), desc='Processing disks'):\n",
    "    disk_path = os.path.join(root_dir, f'disc{disk_num}')\n",
    "    for folder in tqdm(os.listdir(disk_path), desc=f'Processing folders in disk {disk_num}', leave=False):\n",
    "    # for folder in list(os.listdir(disk_path))[:10]:\n",
    "        folder_path = os.path.join(disk_path, folder)\n",
    "        if os.path.isdir(folder_path):\n",
    "            # Get CDR score for this subject\n",
    "            subject_id = folder  # Append _MR1 to match ID format in data\n",
    "            try:\n",
    "                cdr_score = data[data['ID'] == subject_id]['CDR'].values[0]\n",
    "                \n",
    "                # Load all .gif images from this folder\n",
    "                gif_files = [f for f in os.listdir(folder_path) if f.endswith('.gif')]\n",
    "                for img_file in gif_files:\n",
    "                    img_path = os.path.join(folder_path, img_file)\n",
    "                    # Open and convert to grayscale numpy array\n",
    "                    img = Image.open(img_path).convert('L')\n",
    "                    img = img.resize((128, 128))  # Resize for consistency\n",
    "                    img_array = np.array(img) / 255.0  # Normalize to [0,1]\n",
    "                    images.append(img_array)\n",
    "                    labels.append(cdr_score)\n",
    "            except Exception as e:\n",
    "                print(f\"Error processing {subject_id}: {str(e)}\")\n",
    "                raise\n",
    "\n",
    "# Convert to numpy arrays\n",
    "X = np.array(images)\n",
    "y = np.array(labels)\n",
    "\n",
    "# Reshape images for CNN input\n",
    "X = X.reshape(-1, 128, 128, 1)\n",
    "# Looking at unique CDR values to determine number of classes\n",
    "unique_cdrs = np.unique(y)\n",
    "num_classes = len(unique_cdrs)\n",
    "print(f\"Unique CDR values: {unique_cdrs}\")\n",
    "print(f\"Number of classes: {num_classes}\")\n"
   ]
  },
  {
   "cell_type": "code",
   "execution_count": 26,
   "metadata": {},
   "outputs": [
    {
     "name": "stderr",
     "output_type": "stream",
     "text": [
      "WARNING:absl:Compiled the loaded model, but the compiled metrics have yet to be built. `model.compile_metrics` will be empty until you train or evaluate the model.\n"
     ]
    },
    {
     "name": "stdout",
     "output_type": "stream",
     "text": [
      "\u001b[1m135/135\u001b[0m \u001b[32m━━━━━━━━━━━━━━━━━━━━\u001b[0m\u001b[37m\u001b[0m \u001b[1m16s\u001b[0m 115ms/step\n"
     ]
    },
    {
     "data": {
      "text/plain": [
       "array([0, 0, 0, ..., 0, 0, 0])"
      ]
     },
     "execution_count": 26,
     "metadata": {},
     "output_type": "execute_result"
    }
   ],
   "source": [
    "# Load the saved CNN model\n",
    "cnn_model = tf.keras.models.load_model(cnn_model_path)\n",
    "\n",
    "# Get predictions from CNN model\n",
    "cnn_predictions = cnn_model.predict(X)￼\n",
    "DOWNLOAD\n",
    "￼\n",
    "\n",
    "cnn_predictions = np.argmax(cnn_predictions, axis=1)\n",
    "cnn_predictions"
   ]
  },
  {
   "cell_type": "code",
   "execution_count": 6,
   "metadata": {},
   "outputs": [
    {
     "data": {
      "text/html": [
       "<div>\n",
       "<style scoped>\n",
       "    .dataframe tbody tr th:only-of-type {\n",
       "        vertical-align: middle;\n",
       "    }\n",
       "\n",
       "    .dataframe tbody tr th {\n",
       "        vertical-align: top;\n",
       "    }\n",
       "\n",
       "    .dataframe thead th {\n",
       "        text-align: right;\n",
       "    }\n",
       "</style>\n",
       "<table border=\"1\" class=\"dataframe\">\n",
       "  <thead>\n",
       "    <tr style=\"text-align: right;\">\n",
       "      <th></th>\n",
       "      <th>ID</th>\n",
       "      <th>M/F</th>\n",
       "      <th>Age</th>\n",
       "      <th>EDUC</th>\n",
       "      <th>SES</th>\n",
       "      <th>MMSE</th>\n",
       "      <th>CDR</th>\n",
       "      <th>eTIV</th>\n",
       "      <th>nWBV</th>\n",
       "      <th>ASF</th>\n",
       "    </tr>\n",
       "  </thead>\n",
       "  <tbody>\n",
       "    <tr>\n",
       "      <th>0</th>\n",
       "      <td>OAS1_0001_MR1</td>\n",
       "      <td>0.0</td>\n",
       "      <td>74.0</td>\n",
       "      <td>2.00</td>\n",
       "      <td>3.00</td>\n",
       "      <td>29.00</td>\n",
       "      <td>0.0</td>\n",
       "      <td>1344.0</td>\n",
       "      <td>0.743</td>\n",
       "      <td>1.306</td>\n",
       "    </tr>\n",
       "    <tr>\n",
       "      <th>1</th>\n",
       "      <td>OAS1_0002_MR1</td>\n",
       "      <td>0.0</td>\n",
       "      <td>55.0</td>\n",
       "      <td>4.00</td>\n",
       "      <td>1.00</td>\n",
       "      <td>29.00</td>\n",
       "      <td>0.0</td>\n",
       "      <td>1147.0</td>\n",
       "      <td>0.810</td>\n",
       "      <td>1.531</td>\n",
       "    </tr>\n",
       "    <tr>\n",
       "      <th>2</th>\n",
       "      <td>OAS1_0003_MR1</td>\n",
       "      <td>0.0</td>\n",
       "      <td>73.0</td>\n",
       "      <td>4.00</td>\n",
       "      <td>3.00</td>\n",
       "      <td>27.00</td>\n",
       "      <td>0.5</td>\n",
       "      <td>1454.0</td>\n",
       "      <td>0.708</td>\n",
       "      <td>1.207</td>\n",
       "    </tr>\n",
       "    <tr>\n",
       "      <th>3</th>\n",
       "      <td>OAS1_0004_MR1</td>\n",
       "      <td>1.0</td>\n",
       "      <td>28.0</td>\n",
       "      <td>3.39</td>\n",
       "      <td>3.25</td>\n",
       "      <td>22.09</td>\n",
       "      <td>0.5</td>\n",
       "      <td>1588.0</td>\n",
       "      <td>0.803</td>\n",
       "      <td>1.105</td>\n",
       "    </tr>\n",
       "    <tr>\n",
       "      <th>4</th>\n",
       "      <td>OAS1_0005_MR1</td>\n",
       "      <td>1.0</td>\n",
       "      <td>18.0</td>\n",
       "      <td>2.74</td>\n",
       "      <td>3.15</td>\n",
       "      <td>22.55</td>\n",
       "      <td>0.5</td>\n",
       "      <td>1737.0</td>\n",
       "      <td>0.848</td>\n",
       "      <td>1.010</td>\n",
       "    </tr>\n",
       "  </tbody>\n",
       "</table>\n",
       "</div>"
      ],
      "text/plain": [
       "              ID  M/F   Age  EDUC   SES   MMSE  CDR    eTIV   nWBV    ASF\n",
       "0  OAS1_0001_MR1  0.0  74.0  2.00  3.00  29.00  0.0  1344.0  0.743  1.306\n",
       "1  OAS1_0002_MR1  0.0  55.0  4.00  1.00  29.00  0.0  1147.0  0.810  1.531\n",
       "2  OAS1_0003_MR1  0.0  73.0  4.00  3.00  27.00  0.5  1454.0  0.708  1.207\n",
       "3  OAS1_0004_MR1  1.0  28.0  3.39  3.25  22.09  0.5  1588.0  0.803  1.105\n",
       "4  OAS1_0005_MR1  1.0  18.0  2.74  3.15  22.55  0.5  1737.0  0.848  1.010"
      ]
     },
     "execution_count": 6,
     "metadata": {},
     "output_type": "execute_result"
    }
   ],
   "source": [
    "raw_data.head()\n",
    "seq_data = raw_data.drop(columns=['Hand']).rename(columns={'Educ': 'EDUC'})\n",
    "seq_data.head()"
   ]
  },
  {
   "cell_type": "code",
   "execution_count": 28,
   "metadata": {},
   "outputs": [
    {
     "name": "stderr",
     "output_type": "stream",
     "text": [
      "/home/rohitb/projects/ml/Project/venv/lib/python3.12/site-packages/sklearn/base.py:376: InconsistentVersionWarning: Trying to unpickle estimator DecisionTreeClassifier from version 1.4.1.post1 when using version 1.5.2. This might lead to breaking code or invalid results. Use at your own risk. For more info please refer to:\n",
      "https://scikit-learn.org/stable/model_persistence.html#security-maintainability-limitations\n",
      "  warnings.warn(\n",
      "/home/rohitb/projects/ml/Project/venv/lib/python3.12/site-packages/sklearn/base.py:376: InconsistentVersionWarning: Trying to unpickle estimator RandomForestClassifier from version 1.4.1.post1 when using version 1.5.2. This might lead to breaking code or invalid results. Use at your own risk. For more info please refer to:\n",
      "https://scikit-learn.org/stable/model_persistence.html#security-maintainability-limitations\n",
      "  warnings.warn(\n",
      "/home/rohitb/projects/ml/Project/venv/lib/python3.12/site-packages/sklearn/base.py:376: InconsistentVersionWarning: Trying to unpickle estimator GaussianNB from version 1.4.1.post1 when using version 1.5.2. This might lead to breaking code or invalid results. Use at your own risk. For more info please refer to:\n",
      "https://scikit-learn.org/stable/model_persistence.html#security-maintainability-limitations\n",
      "  warnings.warn(\n"
     ]
    },
    {
     "data": {
      "text/plain": [
       "array([2, 2, 1, 1, 1, 1, 1, 1, 2, 2, 1, 2, 1, 1, 1, 1, 2, 2, 2, 1, 1, 1,\n",
       "       1, 2, 1, 1, 1, 2, 1, 2, 2, 2, 1, 1, 1, 1, 1, 1, 1, 1, 2, 1, 1, 1,\n",
       "       1, 1, 1, 1, 1, 1, 1, 1, 1, 2, 1, 1, 1, 2, 1, 2, 2, 1, 1, 2, 2, 2,\n",
       "       2, 0, 1, 2, 2, 1, 1, 2, 1, 1, 1, 1, 2, 1, 2, 2, 1, 1, 1, 1, 1, 1,\n",
       "       1, 2, 1, 1, 1, 1, 1, 1, 1, 1, 2, 1, 1, 2, 2, 1, 2, 2, 2, 1, 2, 1,\n",
       "       1, 1, 1, 1, 1, 1, 1, 1, 1, 1, 2, 1, 1, 2, 1, 2, 1, 1, 2, 2, 1, 1,\n",
       "       1, 1, 1, 1, 2, 1, 1, 1, 1, 1, 1, 1, 1, 2, 1, 1, 1, 1, 1, 1, 1, 2,\n",
       "       1, 1, 1, 0, 2, 1, 1, 0, 2, 1, 1, 2, 2, 1, 1, 1, 1, 2, 2, 1, 1, 1,\n",
       "       1, 1, 0, 2, 1, 2, 2, 2, 1, 2, 2, 1, 2, 2, 2, 1, 0, 1, 2, 1, 1, 2,\n",
       "       1, 1, 2, 2, 1, 1, 1, 1, 0, 2, 2, 1, 1, 1, 1, 2, 1, 1, 2, 1, 1, 1,\n",
       "       2, 1, 2, 1, 1, 1, 1, 1, 2, 2, 2, 1, 2, 2, 1, 2, 0, 1, 1, 2, 1, 1,\n",
       "       1, 2, 2, 1, 1, 2, 1, 1, 1, 2, 2, 1, 1, 1, 2, 1, 1, 1, 1, 2, 1, 1,\n",
       "       2, 2, 1, 1, 1, 1, 2, 1, 2, 1, 2, 1, 1, 1, 1, 2, 1, 1, 1, 1, 1, 1,\n",
       "       1, 2, 1, 1, 1, 2, 2, 1, 2, 1, 1, 1, 2, 1, 2, 1, 1, 1, 2, 2, 1, 1,\n",
       "       2, 2, 2, 1, 2, 1, 1, 1, 1, 1, 1, 1, 2, 2, 2, 2, 2, 1, 1, 1, 0, 2,\n",
       "       2, 2, 1, 0, 1, 2, 2, 1, 1, 1, 1, 1, 2, 1, 1, 2, 1, 1, 1, 1, 1, 1,\n",
       "       1, 1, 1, 1, 1, 1, 1, 1, 2, 1, 1, 2, 1, 1, 2, 1, 1, 1, 1, 1, 1, 1,\n",
       "       1, 1, 1, 1, 1, 1, 1, 1, 2, 2, 1, 1, 2, 2, 1, 1, 1, 1, 2, 1, 1, 1,\n",
       "       2, 1, 1, 0, 1, 2, 1, 2, 2, 1, 1, 2, 1, 1, 1, 1, 1, 2, 2, 2, 1, 1,\n",
       "       1, 1, 1, 1, 1, 1, 1, 1, 1, 1, 1, 1, 1, 1, 1, 1, 1, 1])"
      ]
     },
     "execution_count": 28,
     "metadata": {},
     "output_type": "execute_result"
    }
   ],
   "source": [
    "# Then get probabilities for test data \n",
    "seq_model = joblib.load(sequential_model_path)\n",
    "nb_model = joblib.load(nb_model_path)\n",
    "xgb_model = joblib.load(xgb_model_path)\n",
    "nb_test_probs = nb_model.predict_proba(seq_data.drop(columns=['ID']))\n",
    "xgb_test_probs = xgb_model.predict_proba(seq_data.drop(columns=['ID']))\n",
    "meta_features = np.column_stack([nb_test_probs, xgb_test_probs])\n",
    "y_pred = seq_model.predict(meta_features)\n",
    "y_pred"
   ]
  },
  {
   "cell_type": "code",
   "execution_count": 30,
   "metadata": {},
   "outputs": [
    {
     "data": {
      "image/png": "[encoded data removed]",
      "text/plain": [
       "<Figure size 1500x500 with 2 Axes>"
      ]
     },
     "metadata": {},
     "output_type": "display_data"
    },
    {
     "name": "stdout",
     "output_type": "stream",
     "text": [
      "CNN Model (CDR Score) Summary:\n",
      "CDR Score 0 (Normal): 4116\n",
      "CDR Score 1 (0.5): 180\n",
      "\n",
      "Sequential Model (Dementia Status) Summary:\n",
      "Non-demented: 10\n",
      "Demented: 297\n",
      "Converted: 129\n"
     ]
    },
    {
     "data": {
      "image/png": "[encoded data removed]",
      "text/plain": [
       "<Figure size 1000x600 with 2 Axes>"
      ]
     },
     "metadata": {},
     "output_type": "display_data"
    },
    {
     "name": "stdout",
     "output_type": "stream",
     "text": [
      "\n",
      "Relationship Matrix (including totals):\n",
      "         Non-demented  Demented  Converted  Total\n",
      "CDR 0              10       268        120    398\n",
      "CDR 0.5             0        29          9     38\n",
      "Total              10       297        129    436\n"
     ]
    }
   ],
   "source": [
    "# Analyze predictions from both models\n",
    "import seaborn as sns\n",
    "import matplotlib.pyplot as plt\n",
    "import numpy as np\n",
    "\n",
    "# Create separate distribution plots\n",
    "fig, (ax1, ax2) = plt.subplots(1, 2, figsize=(15, 5))\n",
    "\n",
    "# Plot CNN predictions (CDR scores)\n",
    "ax1.hist(cnn_predictions, bins=len(np.unique(cnn_predictions)), alpha=0.7)\n",
    "ax1.set_title('Distribution of CNN Model Predictions\\n(CDR Scores)')\n",
    "ax1.set_xlabel('CDR Score (0: Normal, 1: 0.5, 2: 1)')\n",
    "ax1.set_ylabel('Frequency')\n",
    "\n",
    "# Plot Sequential model predictions\n",
    "ax2.hist(y_pred, bins=len(np.unique(y_pred)), alpha=0.7)\n",
    "ax2.set_title('Distribution of Sequential Model Predictions\\n(Dementia Status)')\n",
    "ax2.set_xlabel('Status (0: Non-demented, 1: Demented, 2: Converted)')\n",
    "ax2.set_ylabel('Frequency')\n",
    "\n",
    "plt.tight_layout()\n",
    "plt.show()\n",
    "\n",
    "# Print summary statistics\n",
    "print(\"CNN Model (CDR Score) Summary:\")\n",
    "cdr_counts = np.bincount(cnn_predictions)\n",
    "print(f\"CDR Score 0 (Normal): {cdr_counts[0]}\")\n",
    "print(f\"CDR Score 1 (0.5): {cdr_counts[1]}\")\n",
    "print(\"\\nSequential Model (Dementia Status) Summary:\")\n",
    "status_counts = np.bincount(y_pred)\n",
    "print(f\"Non-demented: {status_counts[0]}\")\n",
    "print(f\"Demented: {status_counts[1]}\")\n",
    "print(f\"Converted: {status_counts[2]}\")\n",
    "\n",
    "# Create a relationship matrix between CDR scores and dementia status\n",
    "relationship_matrix = pd.crosstab(\n",
    "    pd.Series(cnn_predictions, name='CDR Score (CNN)'),\n",
    "    pd.Series(y_pred, name='Dementia Status (Sequential)'),\n",
    "    margins=True\n",
    ")\n",
    "relationship_matrix.columns = ['Non-demented', 'Demented', 'Converted', 'Total']\n",
    "relationship_matrix.index = ['CDR 0', 'CDR 0.5', 'Total']\n",
    "\n",
    "plt.figure(figsize=(10, 6))\n",
    "sns.heatmap(relationship_matrix.iloc[:-1,:-1], annot=True, fmt='d', cmap='YlOrRd')\n",
    "plt.title('Relationship Between CDR Scores and Dementia Status')\n",
    "plt.show()\n",
    "\n",
    "print(\"\\nRelationship Matrix (including totals):\")\n",
    "print(relationship_matrix)\n"
   ]
  },
  {
   "cell_type": "markdown",
   "metadata": {},
   "source": [
    "# Working prototype"
   ]
  },
  {
   "cell_type": "code",
   "execution_count": 35,
   "metadata": {},
   "outputs": [],
   "source": [
    "test_mri_path = '/home/rohitb/projects/ml/Project/assets/OASIS-1/processed/disc5/OAS1_0152_MR1/OAS1_0152_MR1_mpr_n4_anon_111_t88_gfc_cor_110.gif'\n",
    "test_seq_data_path = '/home/rohitb/projects/ml/Project/data/oasis_cleaned.csv'\n",
    "cnn_model_path = '/home/rohitb/projects/ml/Project/mri_data_analysis/trained_models/cnn_model_1.h5'\n",
    "sequential_model_path = '/home/rohitb/projects/ml/Project/sequential_data_analysis/trained_models/ensamble_nb_xgb.joblib'\n",
    "nb_model_path = '/home/rohitb/projects/ml/Project/sequential_data_analysis/trained_models/optimal_gaussianNB.joblib'\n",
    "xgb_model_path = '/home/rohitb/projects/ml/Project/sequential_data_analysis/trained_models/optimal_XGBoost.joblib'\n"
   ]
  },
  {
   "cell_type": "code",
   "execution_count": 36,
   "metadata": {},
   "outputs": [
    {
     "data": {
      "text/html": [
       "<div>\n",
       "<style scoped>\n",
       "    .dataframe tbody tr th:only-of-type {\n",
       "        vertical-align: middle;\n",
       "    }\n",
       "\n",
       "    .dataframe tbody tr th {\n",
       "        vertical-align: top;\n",
       "    }\n",
       "\n",
       "    .dataframe thead th {\n",
       "        text-align: right;\n",
       "    }\n",
       "</style>\n",
       "<table border=\"1\" class=\"dataframe\">\n",
       "  <thead>\n",
       "    <tr style=\"text-align: right;\">\n",
       "      <th></th>\n",
       "      <th>ID</th>\n",
       "      <th>M/F</th>\n",
       "      <th>Age</th>\n",
       "      <th>EDUC</th>\n",
       "      <th>SES</th>\n",
       "      <th>MMSE</th>\n",
       "      <th>CDR</th>\n",
       "      <th>eTIV</th>\n",
       "      <th>nWBV</th>\n",
       "      <th>ASF</th>\n",
       "    </tr>\n",
       "  </thead>\n",
       "  <tbody>\n",
       "    <tr>\n",
       "      <th>141</th>\n",
       "      <td>OAS1_0152_MR1</td>\n",
       "      <td>0.0</td>\n",
       "      <td>23.0</td>\n",
       "      <td>3.31</td>\n",
       "      <td>3.11</td>\n",
       "      <td>22.74</td>\n",
       "      <td>0.5</td>\n",
       "      <td>1471.0</td>\n",
       "      <td>0.83</td>\n",
       "      <td>1.193</td>\n",
       "    </tr>\n",
       "  </tbody>\n",
       "</table>\n",
       "</div>"
      ],
      "text/plain": [
       "                ID  M/F   Age  EDUC   SES   MMSE  CDR    eTIV  nWBV    ASF\n",
       "141  OAS1_0152_MR1  0.0  23.0  3.31  3.11  22.74  0.5  1471.0  0.83  1.193"
      ]
     },
     "execution_count": 36,
     "metadata": {},
     "output_type": "execute_result"
    }
   ],
   "source": [
    "test_seq_data = pd.read_csv(test_seq_data_path)\n",
    "test_seq_data = test_seq_data[test_seq_data['ID'] == 'OAS1_0152_MR1']\n",
    "# Rename 'Educ' to 'EDUC' to match training data format\n",
    "test_seq_data = test_seq_data.rename(columns={'Educ': 'EDUC'})\n",
    "# Drop the 'Hand' column from test data\n",
    "test_seq_data = test_seq_data.drop(columns=['Hand'])\n",
    "test_seq_data.head()\n"
   ]
  },
  {
   "cell_type": "code",
   "execution_count": 32,
   "metadata": {},
   "outputs": [
    {
     "data": {
      "text/plain": [
       "array([[0., 0., 0., ..., 0., 0., 0.],\n",
       "       [0., 0., 0., ..., 0., 0., 0.],\n",
       "       [0., 0., 0., ..., 0., 0., 0.],\n",
       "       ...,\n",
       "       [0., 0., 0., ..., 0., 0., 0.],\n",
       "       [0., 0., 0., ..., 0., 0., 0.],\n",
       "       [0., 0., 0., ..., 0., 0., 0.]])"
      ]
     },
     "execution_count": 32,
     "metadata": {},
     "output_type": "execute_result"
    }
   ],
   "source": [
    "img_path = os.path.join(folder_path, img_file)\n",
    "                        # Open and convert to grayscale numpy array\n",
    "test_img = Image.open(test_mri_path).convert('L')\n",
    "test_img = test_img.resize((128, 128))  # Resize for consistency\n",
    "test_img_array = np.array(test_img) / 255.0  # Normalize to [0,1]\n",
    "test_img_array.shape\n",
    "test_img_array\n"
   ]
  },
  {
   "cell_type": "code",
   "execution_count": 33,
   "metadata": {},
   "outputs": [
    {
     "name": "stderr",
     "output_type": "stream",
     "text": [
      "WARNING:absl:Compiled the loaded model, but the compiled metrics have yet to be built. `model.compile_metrics` will be empty until you train or evaluate the model.\n"
     ]
    },
    {
     "name": "stdout",
     "output_type": "stream",
     "text": [
      "\u001b[1m1/1\u001b[0m \u001b[32m━━━━━━━━━━━━━━━━━━━━\u001b[0m\u001b[37m\u001b[0m \u001b[1m0s\u001b[0m 180ms/step\n",
      "\n",
      "CNN Model Prediction: [[9.99999642e-01 9.92554426e-01 1.06730545e-02 1.67564529e-09\n",
      "  3.35110076e-06]]\n",
      "\n",
      "Rounded CNN Prediction: [[1.   0.99 0.01 0.   0.  ]]\n",
      "\n",
      "Predicted CDR value: 0.5\n"
     ]
    }
   ],
   "source": [
    "# Load the CNN model\n",
    "cnn_model = tf.keras.models.load_model(cnn_model_path)\n",
    "\n",
    "# Reshape image array to match model input shape\n",
    "test_img_array = test_img_array.reshape(-1, 128, 128, 1)\n",
    "\n",
    "# Get CNN prediction\n",
    "cnn_prediction = cnn_model.predict(test_img_array)\n",
    "print(\"\\nCNN Model Prediction:\", cnn_prediction)\n",
    "# Round off the CNN prediction to 2 decimal places\n",
    "cnn_prediction_rounded = np.round(cnn_prediction, decimals=2)\n",
    "print(\"\\nRounded CNN Prediction:\", cnn_prediction_rounded)\n",
    "d = {0:0,1:0.5,2:1}\n",
    "if 1 in cnn_prediction_rounded:\n",
    "    print(f\"\\nPredicted CDR value: {d[1]}\")\n"
   ]
  },
  {
   "cell_type": "code",
   "execution_count": 34,
   "metadata": {},
   "outputs": [
    {
     "name": "stdout",
     "output_type": "stream",
     "text": [
      "\n",
      "Predicted Dementia Status: Demented\n"
     ]
    },
    {
     "name": "stderr",
     "output_type": "stream",
     "text": [
      "/home/rohitb/projects/ml/Project/venv/lib/python3.12/site-packages/sklearn/base.py:376: InconsistentVersionWarning: Trying to unpickle estimator GaussianNB from version 1.4.1.post1 when using version 1.5.2. This might lead to breaking code or invalid results. Use at your own risk. For more info please refer to:\n",
      "https://scikit-learn.org/stable/model_persistence.html#security-maintainability-limitations\n",
      "  warnings.warn(\n",
      "/home/rohitb/projects/ml/Project/venv/lib/python3.12/site-packages/sklearn/base.py:376: InconsistentVersionWarning: Trying to unpickle estimator DecisionTreeClassifier from version 1.4.1.post1 when using version 1.5.2. This might lead to breaking code or invalid results. Use at your own risk. For more info please refer to:\n",
      "https://scikit-learn.org/stable/model_persistence.html#security-maintainability-limitations\n",
      "  warnings.warn(\n",
      "/home/rohitb/projects/ml/Project/venv/lib/python3.12/site-packages/sklearn/base.py:376: InconsistentVersionWarning: Trying to unpickle estimator RandomForestClassifier from version 1.4.1.post1 when using version 1.5.2. This might lead to breaking code or invalid results. Use at your own risk. For more info please refer to:\n",
      "https://scikit-learn.org/stable/model_persistence.html#security-maintainability-limitations\n",
      "  warnings.warn(\n"
     ]
    }
   ],
   "source": [
    "# Load the sequential models\n",
    "nb_model = joblib.load(nb_model_path)\n",
    "xgb_model = joblib.load(xgb_model_path) \n",
    "seq_model = joblib.load(sequential_model_path)\n",
    "d = {0: 'Converted', 1: 'Demented', 2: 'Nondemented'}\n",
    "\n",
    "nb_test_probs = nb_model.predict_proba(test_seq_data.drop(columns=['ID']))\n",
    "xgb_test_probs = xgb_model.predict_proba(test_seq_data.drop(columns=['ID']))\n",
    "test_meta_features = np.column_stack([nb_test_probs, xgb_test_probs])\n",
    "y_pred_ensemble = seq_model.predict(test_meta_features)\n",
    "print(f\"\\nPredicted Dementia Status: {d[y_pred_ensemble[0]]}\")\n"
   ]
  }
 ],
 "metadata": {
  "kernelspec": {
   "display_name": "venv",
   "language": "python",
   "name": "python3"
  },
  "language_info": {
   "codemirror_mode": {
    "name": "ipython",
    "version": 3
   },
   "file_extension": ".py",
   "mimetype": "text/x-python",
   "name": "python",
   "nbconvert_exporter": "python",
   "pygments_lexer": "ipython3",
   "version": "3.12.3"
  }
 },
 "nbformat": 4,
 "nbformat_minor": 2
}
